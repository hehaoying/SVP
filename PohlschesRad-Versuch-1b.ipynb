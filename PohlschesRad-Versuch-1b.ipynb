{
 "cells": [
  {
   "cell_type": "markdown",
   "metadata": {},
   "source": [
    "#  Versuchdaten, Datenframe erstellen und anschauen"
   ]
  },
  {
   "cell_type": "code",
   "execution_count": 1,
   "metadata": {},
   "outputs": [],
   "source": [
    "import pandas as pd\n",
    "import numpy as np\n",
    "import matplotlib.pyplot as plt\n",
    "import os \n",
    "import statsmodels.api as sm \n",
    "import statsmodels.formula.api as smf\n",
    "from mpl_toolkits.mplot3d import Axes3D\n",
    "from sklearn import linear_model \n",
    "from sklearn.linear_model import LinearRegression\n",
    "import statsmodels.api as sm\n",
    "\n",
    "%matplotlib inline\n",
    "  \n",
    "df = pd.read_csv(\"data2.csv\")"
   ]
  },
  {
   "cell_type": "markdown",
   "metadata": {},
   "source": [
    "### Datenframe anschauen"
   ]
  },
  {
   "cell_type": "code",
   "execution_count": 2,
   "metadata": {},
   "outputs": [
    {
     "data": {
      "text/html": [
       "<div>\n",
       "<style scoped>\n",
       "    .dataframe tbody tr th:only-of-type {\n",
       "        vertical-align: middle;\n",
       "    }\n",
       "\n",
       "    .dataframe tbody tr th {\n",
       "        vertical-align: top;\n",
       "    }\n",
       "\n",
       "    .dataframe thead th {\n",
       "        text-align: right;\n",
       "    }\n",
       "</style>\n",
       "<table border=\"1\" class=\"dataframe\">\n",
       "  <thead>\n",
       "    <tr style=\"text-align: right;\">\n",
       "      <th></th>\n",
       "      <th>b</th>\n",
       "      <th>g</th>\n",
       "      <th>y</th>\n",
       "    </tr>\n",
       "  </thead>\n",
       "  <tbody>\n",
       "    <tr>\n",
       "      <th>0</th>\n",
       "      <td>0.1</td>\n",
       "      <td>10.0</td>\n",
       "      <td>0.90</td>\n",
       "    </tr>\n",
       "    <tr>\n",
       "      <th>1</th>\n",
       "      <td>0.1</td>\n",
       "      <td>18.0</td>\n",
       "      <td>0.30</td>\n",
       "    </tr>\n",
       "    <tr>\n",
       "      <th>2</th>\n",
       "      <td>0.3</td>\n",
       "      <td>10.0</td>\n",
       "      <td>0.90</td>\n",
       "    </tr>\n",
       "    <tr>\n",
       "      <th>3</th>\n",
       "      <td>0.3</td>\n",
       "      <td>18.0</td>\n",
       "      <td>0.50</td>\n",
       "    </tr>\n",
       "    <tr>\n",
       "      <th>4</th>\n",
       "      <td>0.2</td>\n",
       "      <td>14.0</td>\n",
       "      <td>2.80</td>\n",
       "    </tr>\n",
       "    <tr>\n",
       "      <th>5</th>\n",
       "      <td>0.1</td>\n",
       "      <td>17.5</td>\n",
       "      <td>0.40</td>\n",
       "    </tr>\n",
       "    <tr>\n",
       "      <th>6</th>\n",
       "      <td>0.3</td>\n",
       "      <td>17.5</td>\n",
       "      <td>0.45</td>\n",
       "    </tr>\n",
       "    <tr>\n",
       "      <th>7</th>\n",
       "      <td>0.2</td>\n",
       "      <td>13.2</td>\n",
       "      <td>18.40</td>\n",
       "    </tr>\n",
       "    <tr>\n",
       "      <th>8</th>\n",
       "      <td>0.1</td>\n",
       "      <td>13.2</td>\n",
       "      <td>20.00</td>\n",
       "    </tr>\n",
       "  </tbody>\n",
       "</table>\n",
       "</div>"
      ],
      "text/plain": [
       "     b     g      y\n",
       "0  0.1  10.0   0.90\n",
       "1  0.1  18.0   0.30\n",
       "2  0.3  10.0   0.90\n",
       "3  0.3  18.0   0.50\n",
       "4  0.2  14.0   2.80\n",
       "5  0.1  17.5   0.40\n",
       "6  0.3  17.5   0.45\n",
       "7  0.2  13.2  18.40\n",
       "8  0.1  13.2  20.00"
      ]
     },
     "execution_count": 2,
     "metadata": {},
     "output_type": "execute_result"
    }
   ],
   "source": [
    "df"
   ]
  },
  {
   "cell_type": "code",
   "execution_count": 3,
   "metadata": {},
   "outputs": [
    {
     "data": {
      "text/html": [
       "<div>\n",
       "<style scoped>\n",
       "    .dataframe tbody tr th:only-of-type {\n",
       "        vertical-align: middle;\n",
       "    }\n",
       "\n",
       "    .dataframe tbody tr th {\n",
       "        vertical-align: top;\n",
       "    }\n",
       "\n",
       "    .dataframe thead th {\n",
       "        text-align: right;\n",
       "    }\n",
       "</style>\n",
       "<table border=\"1\" class=\"dataframe\">\n",
       "  <thead>\n",
       "    <tr style=\"text-align: right;\">\n",
       "      <th></th>\n",
       "      <th>b</th>\n",
       "      <th>g</th>\n",
       "      <th>y</th>\n",
       "    </tr>\n",
       "  </thead>\n",
       "  <tbody>\n",
       "    <tr>\n",
       "      <th>count</th>\n",
       "      <td>9.000000</td>\n",
       "      <td>9.000000</td>\n",
       "      <td>9.000000</td>\n",
       "    </tr>\n",
       "    <tr>\n",
       "      <th>mean</th>\n",
       "      <td>0.188889</td>\n",
       "      <td>14.600000</td>\n",
       "      <td>4.961111</td>\n",
       "    </tr>\n",
       "    <tr>\n",
       "      <th>std</th>\n",
       "      <td>0.092796</td>\n",
       "      <td>3.288997</td>\n",
       "      <td>8.117950</td>\n",
       "    </tr>\n",
       "    <tr>\n",
       "      <th>min</th>\n",
       "      <td>0.100000</td>\n",
       "      <td>10.000000</td>\n",
       "      <td>0.300000</td>\n",
       "    </tr>\n",
       "    <tr>\n",
       "      <th>25%</th>\n",
       "      <td>0.100000</td>\n",
       "      <td>13.200000</td>\n",
       "      <td>0.450000</td>\n",
       "    </tr>\n",
       "    <tr>\n",
       "      <th>50%</th>\n",
       "      <td>0.200000</td>\n",
       "      <td>14.000000</td>\n",
       "      <td>0.900000</td>\n",
       "    </tr>\n",
       "    <tr>\n",
       "      <th>75%</th>\n",
       "      <td>0.300000</td>\n",
       "      <td>17.500000</td>\n",
       "      <td>2.800000</td>\n",
       "    </tr>\n",
       "    <tr>\n",
       "      <th>max</th>\n",
       "      <td>0.300000</td>\n",
       "      <td>18.000000</td>\n",
       "      <td>20.000000</td>\n",
       "    </tr>\n",
       "  </tbody>\n",
       "</table>\n",
       "</div>"
      ],
      "text/plain": [
       "              b          g          y\n",
       "count  9.000000   9.000000   9.000000\n",
       "mean   0.188889  14.600000   4.961111\n",
       "std    0.092796   3.288997   8.117950\n",
       "min    0.100000  10.000000   0.300000\n",
       "25%    0.100000  13.200000   0.450000\n",
       "50%    0.200000  14.000000   0.900000\n",
       "75%    0.300000  17.500000   2.800000\n",
       "max    0.300000  18.000000  20.000000"
      ]
     },
     "execution_count": 3,
     "metadata": {},
     "output_type": "execute_result"
    }
   ],
   "source": [
    "df.describe()"
   ]
  },
  {
   "cell_type": "markdown",
   "metadata": {},
   "source": [
    "## Plotten\n",
    "### Data Plot"
   ]
  },
  {
   "cell_type": "code",
   "execution_count": 4,
   "metadata": {},
   "outputs": [
    {
     "data": {
      "text/plain": [
       "<matplotlib.axes._subplots.AxesSubplot at 0x7f6b9a9c7940>"
      ]
     },
     "execution_count": 4,
     "metadata": {},
     "output_type": "execute_result"
    },
    {
     "data": {
      "image/png": "[encoded data removed]",
      "text/plain": [
       "<Figure size 432x288 with 1 Axes>"
      ]
     },
     "metadata": {},
     "output_type": "display_data"
    }
   ],
   "source": [
    "df.plot()"
   ]
  },
  {
   "cell_type": "markdown",
   "metadata": {},
   "source": [
    "###  Boxplot"
   ]
  },
  {
   "cell_type": "code",
   "execution_count": 5,
   "metadata": {},
   "outputs": [
    {
     "data": {
      "text/plain": [
       "<matplotlib.axes._subplots.AxesSubplot at 0x7f6b989508d0>"
      ]
     },
     "execution_count": 5,
     "metadata": {},
     "output_type": "execute_result"
    },
    {
     "data": {
      "image/png": "[encoded data removed]",
      "text/plain": [
       "<Figure size 432x288 with 1 Axes>"
      ]
     },
     "metadata": {},
     "output_type": "display_data"
    }
   ],
   "source": [
    "df.boxplot()"
   ]
  },
  {
   "cell_type": "markdown",
   "metadata": {},
   "source": [
    "\n",
    "### 3D Scatter Plot"
   ]
  },
  {
   "cell_type": "code",
   "execution_count": 6,
   "metadata": {},
   "outputs": [
    {
     "data": {
      "image/png": "[encoded data removed]",
      "text/plain": [
       "<Figure size 432x288 with 1 Axes>"
      ]
     },
     "metadata": {},
     "output_type": "display_data"
    }
   ],
   "source": [
    "threedee = plt.figure().gca(projection='3d')\n",
    "threedee.scatter(df.g, df.b, df.y)\n",
    "threedee.set_xlabel('Generator')\n",
    "threedee.set_ylabel('Bremse')\n",
    "threedee.set_zlabel('Schwingung')\n",
    "plt.show()"
   ]
  },
  {
   "cell_type": "markdown",
   "metadata": {},
   "source": [
    "# Ein einfaches Lineares Regressions Model"
   ]
  },
  {
   "cell_type": "code",
   "execution_count": 7,
   "metadata": {},
   "outputs": [
    {
     "name": "stdout",
     "output_type": "stream",
     "text": [
      "Koeffizienten: \n",
      " [-21.46774194]\n",
      "\n",
      "Intercept: 9.016129032258066\n"
     ]
    }
   ],
   "source": [
    "# Create linear regression object \n",
    "regr = linear_model.LinearRegression() \n",
    "\n",
    "x= df.iloc[:,0:1]\n",
    "y= df.iloc[:,2]\n",
    "\n",
    "regr.fit(x,y)\n",
    "\n",
    "# Train the model using the training sets regr.fit(x,y) \n",
    "y_pred = regr.predict(x) \n",
    "\n",
    "print('Koeffizienten: \\n', regr.coef_)\n",
    "\n",
    "print('\\nIntercept:', regr.intercept_)"
   ]
  },
  {
   "cell_type": "code",
   "execution_count": 8,
   "metadata": {},
   "outputs": [
    {
     "data": {
      "image/png": "[encoded data removed]",
      "text/plain": [
       "<Figure size 432x288 with 1 Axes>"
      ]
     },
     "metadata": {},
     "output_type": "display_data"
    }
   ],
   "source": [
    "plt.scatter(x,y, color='black') \n",
    "plt.plot(x,y_pred, color='blue', linewidth=3) \n",
    "plt.xticks(()) \n",
    "plt.yticks(()) \n",
    "plt.show()"
   ]
  },
  {
   "cell_type": "code",
   "execution_count": 9,
   "metadata": {},
   "outputs": [],
   "source": [
    "x= df.iloc[:,0:2]\n",
    "y= df.iloc[:,2]\n",
    "\n",
    "x= x.values\n",
    "y=y.values"
   ]
  },
  {
   "cell_type": "markdown",
   "metadata": {},
   "source": [
    "### Das linear model benötigt numPy arrays, daher formen wir unsere Daten um, X zu einem 2-dimensionalen 25x2, bzw. Y zu 25, eindimensional"
   ]
  },
  {
   "cell_type": "code",
   "execution_count": 10,
   "metadata": {},
   "outputs": [
    {
     "data": {
      "text/plain": [
       "(9, 2)"
      ]
     },
     "execution_count": 10,
     "metadata": {},
     "output_type": "execute_result"
    }
   ],
   "source": [
    "x.shape"
   ]
  },
  {
   "cell_type": "code",
   "execution_count": 11,
   "metadata": {},
   "outputs": [
    {
     "data": {
      "text/plain": [
       "(9,)"
      ]
     },
     "execution_count": 11,
     "metadata": {},
     "output_type": "execute_result"
    }
   ],
   "source": [
    "y.shape"
   ]
  },
  {
   "cell_type": "markdown",
   "metadata": {},
   "source": [
    "### Model Fitten"
   ]
  },
  {
   "cell_type": "code",
   "execution_count": 12,
   "metadata": {},
   "outputs": [],
   "source": [
    "model = LinearRegression().fit(x, y)"
   ]
  },
  {
   "cell_type": "markdown",
   "metadata": {},
   "source": [
    "### Model Parameter und Anpassungsgüte betrachten"
   ]
  },
  {
   "cell_type": "code",
   "execution_count": 13,
   "metadata": {},
   "outputs": [
    {
     "name": "stdout",
     "output_type": "stream",
     "text": [
      "intercept: 18.168182107168505\n"
     ]
    }
   ],
   "source": [
    "print('intercept:', model.intercept_)\n"
   ]
  },
  {
   "cell_type": "code",
   "execution_count": 14,
   "metadata": {},
   "outputs": [
    {
     "name": "stdout",
     "output_type": "stream",
     "text": [
      "slope: [-20.15941576  -0.64377954]\n"
     ]
    }
   ],
   "source": [
    "print('slope:', model.coef_)"
   ]
  },
  {
   "cell_type": "code",
   "execution_count": 15,
   "metadata": {},
   "outputs": [
    {
     "name": "stdout",
     "output_type": "stream",
     "text": [
      "coefficient of determination: 0.12802737785344065\n"
     ]
    }
   ],
   "source": [
    "r_sq = model.score(x, y)\n",
    "print('coefficient of determination:', r_sq)"
   ]
  },
  {
   "cell_type": "markdown",
   "metadata": {},
   "source": [
    "### Model nutzen um Werte vorherzusagen"
   ]
  },
  {
   "cell_type": "code",
   "execution_count": 16,
   "metadata": {},
   "outputs": [],
   "source": [
    "yPred= model.predict(x)"
   ]
  },
  {
   "cell_type": "markdown",
   "metadata": {},
   "source": [
    "# Fortgeschritten: Statsmodel package, zahlreiche Statistiken"
   ]
  },
  {
   "cell_type": "code",
   "execution_count": 17,
   "metadata": {},
   "outputs": [
    {
     "name": "stdout",
     "output_type": "stream",
     "text": [
      "                            OLS Regression Results                            \n",
      "==============================================================================\n",
      "Dep. Variable:                      y   R-squared:                       0.128\n",
      "Model:                            OLS   Adj. R-squared:                 -0.163\n",
      "Method:                 Least Squares   F-statistic:                    0.4405\n",
      "Date:                Sun, 12 Jan 2020   Prob (F-statistic):              0.663\n",
      "Time:                        17:29:21   Log-Likelihood:                -30.471\n",
      "No. Observations:                   9   AIC:                             66.94\n",
      "Df Residuals:                       6   BIC:                             67.53\n",
      "Df Model:                           2                                         \n",
      "Covariance Type:            nonrobust                                         \n",
      "==============================================================================\n",
      "                 coef    std err          t      P>|t|      [0.025      0.975]\n",
      "------------------------------------------------------------------------------\n",
      "const         18.1682     15.090      1.204      0.274     -18.756      55.093\n",
      "x1           -20.1594     33.405     -0.603      0.568    -101.898      61.579\n",
      "x2            -0.6438      0.942     -0.683      0.520      -2.950       1.662\n",
      "==============================================================================\n",
      "Omnibus:                        2.441   Durbin-Watson:                   0.530\n",
      "Prob(Omnibus):                  0.295   Jarque-Bera (JB):                1.360\n",
      "Skew:                           0.909   Prob(JB):                        0.507\n",
      "Kurtosis:                       2.431   Cond. No.                         174.\n",
      "==============================================================================\n",
      "\n",
      "Warnings:\n",
      "[1] Standard Errors assume that the covariance matrix of the errors is correctly specified.\n"
     ]
    },
    {
     "name": "stderr",
     "output_type": "stream",
     "text": [
      "/usr/local/lib/python3.6/dist-packages/scipy/stats/stats.py:1416: UserWarning: kurtosistest only valid for n>=20 ... continuing anyway, n=9\n",
      "  \"anyway, n=%i\" % int(n))\n"
     ]
    }
   ],
   "source": [
    "x = sm.add_constant(x)\n",
    "model = sm.OLS(y, x)\n",
    "results = model.fit()\n",
    "print(results.summary())"
   ]
  },
  {
   "cell_type": "markdown",
   "metadata": {},
   "source": [
    "# Pfad des steilsten Anstiegs"
   ]
  },
  {
   "cell_type": "code",
   "execution_count": 18,
   "metadata": {},
   "outputs": [
    {
     "name": "stdout",
     "output_type": "stream",
     "text": [
      "                            OLS Regression Results                            \n",
      "==============================================================================\n",
      "Dep. Variable:                      y   R-squared:                       0.128\n",
      "Model:                            OLS   Adj. R-squared:                 -0.163\n",
      "Method:                 Least Squares   F-statistic:                    0.4405\n",
      "Date:                Sun, 12 Jan 2020   Prob (F-statistic):              0.663\n",
      "Time:                        17:29:21   Log-Likelihood:                -30.471\n",
      "No. Observations:                   9   AIC:                             66.94\n",
      "Df Residuals:                       6   BIC:                             67.53\n",
      "Df Model:                           2                                         \n",
      "Covariance Type:            nonrobust                                         \n",
      "==============================================================================\n",
      "                 coef    std err          t      P>|t|      [0.025      0.975]\n",
      "------------------------------------------------------------------------------\n",
      "Intercept     18.1682     15.090      1.204      0.274     -18.756      55.093\n",
      "g             -0.6438      0.942     -0.683      0.520      -2.950       1.662\n",
      "b            -20.1594     33.405     -0.603      0.568    -101.898      61.579\n",
      "==============================================================================\n",
      "Omnibus:                        2.441   Durbin-Watson:                   0.530\n",
      "Prob(Omnibus):                  0.295   Jarque-Bera (JB):                1.360\n",
      "Skew:                           0.909   Prob(JB):                        0.507\n",
      "Kurtosis:                       2.431   Cond. No.                         174.\n",
      "==============================================================================\n",
      "\n",
      "Warnings:\n",
      "[1] Standard Errors assume that the covariance matrix of the errors is correctly specified.\n"
     ]
    },
    {
     "name": "stderr",
     "output_type": "stream",
     "text": [
      "/usr/local/lib/python3.6/dist-packages/scipy/stats/stats.py:1416: UserWarning: kurtosistest only valid for n>=20 ... continuing anyway, n=9\n",
      "  \"anyway, n=%i\" % int(n))\n"
     ]
    }
   ],
   "source": [
    "## Daten einlesen\n",
    "df = pd.read_csv(\"data2.csv\")\n",
    "\n",
    "## Modell-X sind Generator und Bremse in den Daten\n",
    "X = np.c_[df.g, df.b]\n",
    "## Modell-Y ist die Schwingung\n",
    "y = df.y\n",
    "\n",
    "## Modell Bauen und Ausgeben\n",
    "res = smf.ols('y ~ g+b ', data = df).fit()\n",
    "print(res.summary())"
   ]
  },
  {
   "cell_type": "markdown",
   "metadata": {},
   "source": [
    "## Modell Koeffizienten\n",
    "Die Koeffizienten des Regressionsmodells zeigen die Richtung des steilsten Anstiegs im Modell."
   ]
  },
  {
   "cell_type": "code",
   "execution_count": 19,
   "metadata": {},
   "outputs": [
    {
     "name": "stdout",
     "output_type": "stream",
     "text": [
      "Intercept    18.168182\n",
      "g            -0.643780\n",
      "b           -20.159416\n",
      "dtype: float64\n"
     ]
    }
   ],
   "source": [
    "## Die Koeffizienten sind in .params gespeichert\n",
    "print(res.params)"
   ]
  },
  {
   "cell_type": "code",
   "execution_count": 20,
   "metadata": {},
   "outputs": [
    {
     "name": "stdout",
     "output_type": "stream",
     "text": [
      "[[14.   0.2]]\n",
      "[[13.67811023 -9.87970788]]\n",
      "[[ 13.35622046 -19.95941576]]\n",
      "[[ 13.03433068 -30.03912365]]\n",
      "[[ 12.71244091 -40.11883153]]\n",
      "[[ 12.39055114 -50.19853941]]\n",
      "[[ 12.06866137 -60.27824729]]\n",
      "[[ 11.74677159 -70.35795517]]\n",
      "[[ 11.42488182 -80.43766306]]\n",
      "[[ 11.10299205 -90.51737094]]\n"
     ]
    }
   ],
   "source": [
    "## Koeffizienten extrahieren\n",
    "beta = np.c_[res.params.g, res.params.b]\n",
    "\n",
    "## Mittelpunkt der Generator / Bremse -- ACHTUNG -- nicht der Mittelwert / Mean!\n",
    "cb = np.min(df.b) + (np.max(df.b) - np.min(df.b))/2.0\n",
    "cg = np.min(df.g) + (np.max(df.g) - np.min(df.g))/2.0\n",
    "center = np.c_[cg, cb]\n",
    "\n",
    "## Ausgehend vom berechneten Mittelpunkt mit vorgegebener Schrittweite gehen.\n",
    "stepwidth = 0.5\n",
    "for i in range(10):\n",
    "    xnew = center + i * stepwidth * beta\n",
    "    print(xnew)"
   ]
  },
  {
   "cell_type": "markdown",
   "metadata": {},
   "source": [
    "# Modell 2. Ordnung"
   ]
  },
  {
   "cell_type": "code",
   "execution_count": 21,
   "metadata": {},
   "outputs": [
    {
     "data": {
      "image/png": "[encoded data removed]",
      "text/plain": [
       "<Figure size 432x288 with 1 Axes>"
      ]
     },
     "metadata": {},
     "output_type": "display_data"
    }
   ],
   "source": [
    "from sklearn.preprocessing import PolynomialFeatures\n",
    "\n",
    "## Daten einlesen\n",
    "df = pd.read_csv(\"data2.csv\")\n",
    "\n",
    "## Modell-X sind Generator und Bremse in den Daten\n",
    "X = np.c_[df.g, df.b]\n",
    "## Modell-Y ist die Schwingung\n",
    "y = df.y\n",
    "\n",
    "## 2. Grades\n",
    "poly = PolynomialFeatures(degree=2)\n",
    "\n",
    "#transform the x data for proper fitting (for single variable type it returns,[1,x,x**2])\n",
    "xp = poly.fit_transform(X)\n",
    "\n",
    "## Modell fitten\n",
    "model = sm.OLS(y, xp).fit()\n",
    "\n",
    "## Punkte für Plot vorhersagen\n",
    "y_pred = model.predict(xp)\n",
    "\n",
    "## Plotten\n",
    "p = plt.figure().gca(projection='3d')\n",
    "p.scatter(X[:,0], X[:,1], y, color='blue')\n",
    "p.set_xlabel('Generator')\n",
    "p.set_ylabel('Bremse')\n",
    "p.set_zlabel('Schwingung')\n",
    "p.scatter(X[:,0], X[:,1], y_pred, color='orange')\n",
    "plt.show()"
   ]
  },
  {
   "cell_type": "markdown",
   "metadata": {},
   "source": [
    "## Predict New Data"
   ]
  },
  {
   "cell_type": "code",
   "execution_count": 23,
   "metadata": {},
   "outputs": [
    {
     "data": {
      "text/plain": [
       "array([10.63987379])"
      ]
     },
     "execution_count": 23,
     "metadata": {},
     "output_type": "execute_result"
    }
   ],
   "source": [
    "xnew = np.c_[13.4,0.2]\n",
    "xnew_p = poly.fit_transform(xnew)\n",
    "ynew = model.predict(xnew_p)\n",
    "ynew"
   ]
  },
  {
   "cell_type": "code",
   "execution_count": null,
   "metadata": {},
   "outputs": [],
   "source": []
  },
  {
   "cell_type": "code",
   "execution_count": null,
   "metadata": {},
   "outputs": [],
   "source": []
  }
 ],
 "metadata": {
  "kernelspec": {
   "display_name": "Python 3",
   "language": "python",
   "name": "python3"
  },
  "language_info": {
   "codemirror_mode": {
    "name": "ipython",
    "version": 3
   },
   "file_extension": ".py",
   "mimetype": "text/x-python",
   "name": "python",
   "nbconvert_exporter": "python",
   "pygments_lexer": "ipython3",
   "version": "3.6.8"
  }
 },
 "nbformat": 4,
 "nbformat_minor": 2
}
