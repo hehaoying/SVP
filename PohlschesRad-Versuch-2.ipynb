{
 "cells": [
  {
   "cell_type": "markdown",
   "metadata": {},
   "source": [
    "#  Versuchdaten, Datenframe erstellen und anschauen"
   ]
  },
  {
   "cell_type": "code",
   "execution_count": 2,
   "metadata": {},
   "outputs": [],
   "source": [
    "import pandas as pd\n",
    "import numpy as np\n",
    "import matplotlib.pyplot as plt\n",
    "import os \n",
    "import statsmodels.api as sm \n",
    "import statsmodels.formula.api as smf\n",
    "from mpl_toolkits.mplot3d import Axes3D\n",
    "from sklearn import linear_model \n",
    "from sklearn.linear_model import LinearRegression\n",
    "import statsmodels.api as sm\n",
    "\n",
    "%matplotlib inline\n",
    "  \n",
    "df = pd.read_csv(\"data3.csv\")"
   ]
  },
  {
   "cell_type": "markdown",
   "metadata": {},
   "source": [
    "### Datenframe anschauen"
   ]
  },
  {
   "cell_type": "code",
   "execution_count": 3,
   "metadata": {},
   "outputs": [
    {
     "data": {
      "text/html": [
       "<div>\n",
       "<style scoped>\n",
       "    .dataframe tbody tr th:only-of-type {\n",
       "        vertical-align: middle;\n",
       "    }\n",
       "\n",
       "    .dataframe tbody tr th {\n",
       "        vertical-align: top;\n",
       "    }\n",
       "\n",
       "    .dataframe thead th {\n",
       "        text-align: right;\n",
       "    }\n",
       "</style>\n",
       "<table border=\"1\" class=\"dataframe\">\n",
       "  <thead>\n",
       "    <tr style=\"text-align: right;\">\n",
       "      <th></th>\n",
       "      <th>b</th>\n",
       "      <th>g</th>\n",
       "      <th>y</th>\n",
       "    </tr>\n",
       "  </thead>\n",
       "  <tbody>\n",
       "    <tr>\n",
       "      <th>0</th>\n",
       "      <td>0.2</td>\n",
       "      <td>13.2</td>\n",
       "      <td>20.0</td>\n",
       "    </tr>\n",
       "    <tr>\n",
       "      <th>1</th>\n",
       "      <td>0.2</td>\n",
       "      <td>13.2</td>\n",
       "      <td>17.0</td>\n",
       "    </tr>\n",
       "    <tr>\n",
       "      <th>2</th>\n",
       "      <td>0.1</td>\n",
       "      <td>13.0</td>\n",
       "      <td>13.0</td>\n",
       "    </tr>\n",
       "    <tr>\n",
       "      <th>3</th>\n",
       "      <td>0.1</td>\n",
       "      <td>13.0</td>\n",
       "      <td>12.0</td>\n",
       "    </tr>\n",
       "    <tr>\n",
       "      <th>4</th>\n",
       "      <td>0.1</td>\n",
       "      <td>13.4</td>\n",
       "      <td>20.0</td>\n",
       "    </tr>\n",
       "    <tr>\n",
       "      <th>5</th>\n",
       "      <td>0.1</td>\n",
       "      <td>13.4</td>\n",
       "      <td>20.0</td>\n",
       "    </tr>\n",
       "    <tr>\n",
       "      <th>6</th>\n",
       "      <td>0.3</td>\n",
       "      <td>13.0</td>\n",
       "      <td>13.2</td>\n",
       "    </tr>\n",
       "    <tr>\n",
       "      <th>7</th>\n",
       "      <td>0.3</td>\n",
       "      <td>13.0</td>\n",
       "      <td>14.0</td>\n",
       "    </tr>\n",
       "    <tr>\n",
       "      <th>8</th>\n",
       "      <td>0.3</td>\n",
       "      <td>13.4</td>\n",
       "      <td>19.5</td>\n",
       "    </tr>\n",
       "    <tr>\n",
       "      <th>9</th>\n",
       "      <td>0.3</td>\n",
       "      <td>13.4</td>\n",
       "      <td>20.0</td>\n",
       "    </tr>\n",
       "  </tbody>\n",
       "</table>\n",
       "</div>"
      ],
      "text/plain": [
       "     b     g     y\n",
       "0  0.2  13.2  20.0\n",
       "1  0.2  13.2  17.0\n",
       "2  0.1  13.0  13.0\n",
       "3  0.1  13.0  12.0\n",
       "4  0.1  13.4  20.0\n",
       "5  0.1  13.4  20.0\n",
       "6  0.3  13.0  13.2\n",
       "7  0.3  13.0  14.0\n",
       "8  0.3  13.4  19.5\n",
       "9  0.3  13.4  20.0"
      ]
     },
     "execution_count": 3,
     "metadata": {},
     "output_type": "execute_result"
    }
   ],
   "source": [
    "df"
   ]
  },
  {
   "cell_type": "code",
   "execution_count": 4,
   "metadata": {},
   "outputs": [
    {
     "data": {
      "text/html": [
       "<div>\n",
       "<style scoped>\n",
       "    .dataframe tbody tr th:only-of-type {\n",
       "        vertical-align: middle;\n",
       "    }\n",
       "\n",
       "    .dataframe tbody tr th {\n",
       "        vertical-align: top;\n",
       "    }\n",
       "\n",
       "    .dataframe thead th {\n",
       "        text-align: right;\n",
       "    }\n",
       "</style>\n",
       "<table border=\"1\" class=\"dataframe\">\n",
       "  <thead>\n",
       "    <tr style=\"text-align: right;\">\n",
       "      <th></th>\n",
       "      <th>b</th>\n",
       "      <th>g</th>\n",
       "      <th>y</th>\n",
       "    </tr>\n",
       "  </thead>\n",
       "  <tbody>\n",
       "    <tr>\n",
       "      <th>count</th>\n",
       "      <td>10.000000</td>\n",
       "      <td>10.000000</td>\n",
       "      <td>10.0000</td>\n",
       "    </tr>\n",
       "    <tr>\n",
       "      <th>mean</th>\n",
       "      <td>0.200000</td>\n",
       "      <td>13.200000</td>\n",
       "      <td>16.8700</td>\n",
       "    </tr>\n",
       "    <tr>\n",
       "      <th>std</th>\n",
       "      <td>0.094281</td>\n",
       "      <td>0.188562</td>\n",
       "      <td>3.4403</td>\n",
       "    </tr>\n",
       "    <tr>\n",
       "      <th>min</th>\n",
       "      <td>0.100000</td>\n",
       "      <td>13.000000</td>\n",
       "      <td>12.0000</td>\n",
       "    </tr>\n",
       "    <tr>\n",
       "      <th>25%</th>\n",
       "      <td>0.100000</td>\n",
       "      <td>13.000000</td>\n",
       "      <td>13.4000</td>\n",
       "    </tr>\n",
       "    <tr>\n",
       "      <th>50%</th>\n",
       "      <td>0.200000</td>\n",
       "      <td>13.200000</td>\n",
       "      <td>18.2500</td>\n",
       "    </tr>\n",
       "    <tr>\n",
       "      <th>75%</th>\n",
       "      <td>0.300000</td>\n",
       "      <td>13.400000</td>\n",
       "      <td>20.0000</td>\n",
       "    </tr>\n",
       "    <tr>\n",
       "      <th>max</th>\n",
       "      <td>0.300000</td>\n",
       "      <td>13.400000</td>\n",
       "      <td>20.0000</td>\n",
       "    </tr>\n",
       "  </tbody>\n",
       "</table>\n",
       "</div>"
      ],
      "text/plain": [
       "               b          g        y\n",
       "count  10.000000  10.000000  10.0000\n",
       "mean    0.200000  13.200000  16.8700\n",
       "std     0.094281   0.188562   3.4403\n",
       "min     0.100000  13.000000  12.0000\n",
       "25%     0.100000  13.000000  13.4000\n",
       "50%     0.200000  13.200000  18.2500\n",
       "75%     0.300000  13.400000  20.0000\n",
       "max     0.300000  13.400000  20.0000"
      ]
     },
     "execution_count": 4,
     "metadata": {},
     "output_type": "execute_result"
    }
   ],
   "source": [
    "df.describe()"
   ]
  },
  {
   "cell_type": "markdown",
   "metadata": {},
   "source": [
    "## Plotten\n",
    "### Data Plot"
   ]
  },
  {
   "cell_type": "code",
   "execution_count": 5,
   "metadata": {},
   "outputs": [
    {
     "data": {
      "text/plain": [
       "<matplotlib.axes._subplots.AxesSubplot at 0x7fba902fe550>"
      ]
     },
     "execution_count": 5,
     "metadata": {},
     "output_type": "execute_result"
    },
    {
     "data": {
      "image/png": "[encoded data removed]",
      "text/plain": [
       "<Figure size 432x288 with 1 Axes>"
      ]
     },
     "metadata": {},
     "output_type": "display_data"
    }
   ],
   "source": [
    "df.plot()"
   ]
  },
  {
   "cell_type": "markdown",
   "metadata": {},
   "source": [
    "###  Boxplot"
   ]
  },
  {
   "cell_type": "code",
   "execution_count": 6,
   "metadata": {},
   "outputs": [
    {
     "data": {
      "text/plain": [
       "<matplotlib.axes._subplots.AxesSubplot at 0x7fba8e26ea58>"
      ]
     },
     "execution_count": 6,
     "metadata": {},
     "output_type": "execute_result"
    },
    {
     "data": {
      "image/png": "[encoded data removed]",
      "text/plain": [
       "<Figure size 432x288 with 1 Axes>"
      ]
     },
     "metadata": {},
     "output_type": "display_data"
    }
   ],
   "source": [
    "df.boxplot()"
   ]
  },
  {
   "cell_type": "markdown",
   "metadata": {},
   "source": [
    "\n",
    "### 3D Scatter Plot"
   ]
  },
  {
   "cell_type": "code",
   "execution_count": 7,
   "metadata": {},
   "outputs": [
    {
     "data": {
      "image/png": "[encoded data removed]",
      "text/plain": [
       "<Figure size 432x288 with 1 Axes>"
      ]
     },
     "metadata": {},
     "output_type": "display_data"
    }
   ],
   "source": [
    "threedee = plt.figure().gca(projection='3d')\n",
    "threedee.scatter(df.g, df.b, df.y)\n",
    "threedee.set_xlabel('Generator')\n",
    "threedee.set_ylabel('Bremse')\n",
    "threedee.set_zlabel('Schwingung')\n",
    "plt.show()"
   ]
  },
  {
   "cell_type": "markdown",
   "metadata": {},
   "source": [
    "# Ein einfaches Lineares Regressions Model"
   ]
  },
  {
   "cell_type": "code",
   "execution_count": 8,
   "metadata": {},
   "outputs": [
    {
     "name": "stdout",
     "output_type": "stream",
     "text": [
      "Koeffizienten: \n",
      " [2.125]\n",
      "\n",
      "Intercept: 16.444999999999997\n"
     ]
    }
   ],
   "source": [
    "# Create linear regression object \n",
    "regr = linear_model.LinearRegression() \n",
    "\n",
    "x= df.iloc[:,0:1]\n",
    "y= df.iloc[:,2]\n",
    "\n",
    "regr.fit(x,y)\n",
    "\n",
    "# Train the model using the training sets regr.fit(x,y) \n",
    "y_pred = regr.predict(x) \n",
    "\n",
    "print('Koeffizienten: \\n', regr.coef_)\n",
    "\n",
    "print('\\nIntercept:', regr.intercept_)"
   ]
  },
  {
   "cell_type": "code",
   "execution_count": 9,
   "metadata": {},
   "outputs": [
    {
     "data": {
      "image/png": "[encoded data removed]",
      "text/plain": [
       "<Figure size 432x288 with 1 Axes>"
      ]
     },
     "metadata": {},
     "output_type": "display_data"
    }
   ],
   "source": [
    "plt.scatter(x,y, color='black') \n",
    "plt.plot(x,y_pred, color='blue', linewidth=3) \n",
    "plt.xticks(()) \n",
    "plt.yticks(()) \n",
    "plt.show()"
   ]
  },
  {
   "cell_type": "code",
   "execution_count": 10,
   "metadata": {},
   "outputs": [],
   "source": [
    "x= df.iloc[:,0:2]\n",
    "y= df.iloc[:,2]\n",
    "\n",
    "x= x.values\n",
    "y=y.values"
   ]
  },
  {
   "cell_type": "markdown",
   "metadata": {},
   "source": [
    "### Das linear model benötigt numPy arrays, daher formen wir unsere Daten um, X zu einem 2-dimensionalen 25x2, bzw. Y zu 25, eindimensional"
   ]
  },
  {
   "cell_type": "code",
   "execution_count": 11,
   "metadata": {},
   "outputs": [
    {
     "data": {
      "text/plain": [
       "(10, 2)"
      ]
     },
     "execution_count": 11,
     "metadata": {},
     "output_type": "execute_result"
    }
   ],
   "source": [
    "x.shape"
   ]
  },
  {
   "cell_type": "code",
   "execution_count": 12,
   "metadata": {},
   "outputs": [
    {
     "data": {
      "text/plain": [
       "(10,)"
      ]
     },
     "execution_count": 12,
     "metadata": {},
     "output_type": "execute_result"
    }
   ],
   "source": [
    "y.shape"
   ]
  },
  {
   "cell_type": "markdown",
   "metadata": {},
   "source": [
    "### Model Fitten"
   ]
  },
  {
   "cell_type": "code",
   "execution_count": 13,
   "metadata": {},
   "outputs": [],
   "source": [
    "model = LinearRegression().fit(x, y)"
   ]
  },
  {
   "cell_type": "markdown",
   "metadata": {},
   "source": [
    "### Model Parameter und Anpassungsgüte betrachten"
   ]
  },
  {
   "cell_type": "code",
   "execution_count": 14,
   "metadata": {},
   "outputs": [
    {
     "name": "stdout",
     "output_type": "stream",
     "text": [
      "intercept: -208.77999999999963\n"
     ]
    }
   ],
   "source": [
    "print('intercept:', model.intercept_)\n"
   ]
  },
  {
   "cell_type": "code",
   "execution_count": 15,
   "metadata": {},
   "outputs": [
    {
     "name": "stdout",
     "output_type": "stream",
     "text": [
      "slope: [ 2.125  17.0625]\n"
     ]
    }
   ],
   "source": [
    "print('slope:', model.coef_)"
   ]
  },
  {
   "cell_type": "code",
   "execution_count": 16,
   "metadata": {},
   "outputs": [
    {
     "name": "stdout",
     "output_type": "stream",
     "text": [
      "coefficient of determination: 0.8779724185841299\n"
     ]
    }
   ],
   "source": [
    "r_sq = model.score(x, y)\n",
    "print('coefficient of determination:', r_sq)"
   ]
  },
  {
   "cell_type": "markdown",
   "metadata": {},
   "source": [
    "### Model nutzen um Werte vorherzusagen"
   ]
  },
  {
   "cell_type": "code",
   "execution_count": 17,
   "metadata": {},
   "outputs": [],
   "source": [
    "yPred= model.predict(x)"
   ]
  },
  {
   "cell_type": "markdown",
   "metadata": {},
   "source": [
    "# Fortgeschritten: Statsmodel package, zahlreiche Statistiken"
   ]
  },
  {
   "cell_type": "code",
   "execution_count": 18,
   "metadata": {},
   "outputs": [
    {
     "name": "stdout",
     "output_type": "stream",
     "text": [
      "                            OLS Regression Results                            \n",
      "==============================================================================\n",
      "Dep. Variable:                      y   R-squared:                       0.878\n",
      "Model:                            OLS   Adj. R-squared:                  0.843\n",
      "Method:                 Least Squares   F-statistic:                     25.18\n",
      "Date:                Sun, 12 Jan 2020   Prob (F-statistic):           0.000635\n",
      "Time:                        17:54:27   Log-Likelihood:                -15.501\n",
      "No. Observations:                  10   AIC:                             37.00\n",
      "Df Residuals:                       7   BIC:                             37.91\n",
      "Df Model:                           2                                         \n",
      "Covariance Type:            nonrobust                                         \n",
      "==============================================================================\n",
      "                 coef    std err          t      P>|t|      [0.025      0.975]\n",
      "------------------------------------------------------------------------------\n",
      "const       -208.7800     31.815     -6.562      0.000    -284.011    -133.549\n",
      "x1             2.1250      4.818      0.441      0.672      -9.267      13.517\n",
      "x2            17.0625      2.409      7.083      0.000      11.366      22.759\n",
      "==============================================================================\n",
      "Omnibus:                       16.808   Durbin-Watson:                   1.102\n",
      "Prob(Omnibus):                  0.000   Jarque-Bera (JB):                9.234\n",
      "Skew:                           1.859   Prob(JB):                      0.00988\n",
      "Kurtosis:                       5.888   Cond. No.                         980.\n",
      "==============================================================================\n",
      "\n",
      "Warnings:\n",
      "[1] Standard Errors assume that the covariance matrix of the errors is correctly specified.\n"
     ]
    },
    {
     "name": "stderr",
     "output_type": "stream",
     "text": [
      "/usr/local/lib/python3.6/dist-packages/scipy/stats/stats.py:1416: UserWarning: kurtosistest only valid for n>=20 ... continuing anyway, n=10\n",
      "  \"anyway, n=%i\" % int(n))\n"
     ]
    }
   ],
   "source": [
    "x = sm.add_constant(x)\n",
    "model = sm.OLS(y, x)\n",
    "results = model.fit()\n",
    "print(results.summary())"
   ]
  },
  {
   "cell_type": "markdown",
   "metadata": {},
   "source": [
    "# Pfad des steilsten Anstiegs"
   ]
  },
  {
   "cell_type": "code",
   "execution_count": 19,
   "metadata": {},
   "outputs": [
    {
     "name": "stdout",
     "output_type": "stream",
     "text": [
      "                            OLS Regression Results                            \n",
      "==============================================================================\n",
      "Dep. Variable:                      y   R-squared:                       0.878\n",
      "Model:                            OLS   Adj. R-squared:                  0.843\n",
      "Method:                 Least Squares   F-statistic:                     25.18\n",
      "Date:                Sun, 12 Jan 2020   Prob (F-statistic):           0.000635\n",
      "Time:                        17:54:27   Log-Likelihood:                -15.501\n",
      "No. Observations:                  10   AIC:                             37.00\n",
      "Df Residuals:                       7   BIC:                             37.91\n",
      "Df Model:                           2                                         \n",
      "Covariance Type:            nonrobust                                         \n",
      "==============================================================================\n",
      "                 coef    std err          t      P>|t|      [0.025      0.975]\n",
      "------------------------------------------------------------------------------\n",
      "Intercept   -208.7800     31.815     -6.562      0.000    -284.011    -133.549\n",
      "g             17.0625      2.409      7.083      0.000      11.366      22.759\n",
      "b              2.1250      4.818      0.441      0.672      -9.267      13.517\n",
      "==============================================================================\n",
      "Omnibus:                       16.808   Durbin-Watson:                   1.102\n",
      "Prob(Omnibus):                  0.000   Jarque-Bera (JB):                9.234\n",
      "Skew:                           1.859   Prob(JB):                      0.00988\n",
      "Kurtosis:                       5.888   Cond. No.                         980.\n",
      "==============================================================================\n",
      "\n",
      "Warnings:\n",
      "[1] Standard Errors assume that the covariance matrix of the errors is correctly specified.\n"
     ]
    },
    {
     "name": "stderr",
     "output_type": "stream",
     "text": [
      "/usr/local/lib/python3.6/dist-packages/scipy/stats/stats.py:1416: UserWarning: kurtosistest only valid for n>=20 ... continuing anyway, n=10\n",
      "  \"anyway, n=%i\" % int(n))\n"
     ]
    }
   ],
   "source": [
    "## Daten einlesen\n",
    "df = pd.read_csv(\"data3.csv\")\n",
    "\n",
    "## Modell-X sind Generator und Bremse in den Daten\n",
    "X = np.c_[df.g, df.b]\n",
    "## Modell-Y ist die Schwingung\n",
    "y = df.y\n",
    "\n",
    "## Modell Bauen und Ausgeben\n",
    "res = smf.ols('y ~ g+b ', data = df).fit()\n",
    "print(res.summary())"
   ]
  },
  {
   "cell_type": "markdown",
   "metadata": {},
   "source": [
    "## Modell Koeffizienten\n",
    "Die Koeffizienten des Regressionsmodells zeigen die Richtung des steilsten Anstiegs im Modell."
   ]
  },
  {
   "cell_type": "code",
   "execution_count": 20,
   "metadata": {},
   "outputs": [
    {
     "name": "stdout",
     "output_type": "stream",
     "text": [
      "Intercept   -208.7800\n",
      "g             17.0625\n",
      "b              2.1250\n",
      "dtype: float64\n"
     ]
    }
   ],
   "source": [
    "## Die Koeffizienten sind in .params gespeichert\n",
    "print(res.params)"
   ]
  },
  {
   "cell_type": "code",
   "execution_count": 26,
   "metadata": {},
   "outputs": [
    {
     "name": "stdout",
     "output_type": "stream",
     "text": [
      "[[13.2  0.2]]\n",
      "[[21.73125  1.2625 ]]\n",
      "[[30.2625  2.325 ]]\n",
      "[[38.79375  3.3875 ]]\n",
      "[[47.325  4.45 ]]\n",
      "[[55.85625  5.5125 ]]\n",
      "[[64.3875  6.575 ]]\n",
      "[[72.91875  7.6375 ]]\n",
      "[[81.45  8.7 ]]\n",
      "[[89.98125  9.7625 ]]\n"
     ]
    }
   ],
   "source": [
    "## Koeffizienten extrahieren\n",
    "beta = np.c_[res.params.g, res.params.b]\n",
    "\n",
    "## Mittelpunkt der Generator / Bremse -- ACHTUNG -- nicht der Mittelwert / Mean!\n",
    "cb = np.min(df.b) + (np.max(df.b) - np.min(df.b))/2.0\n",
    "cg = np.min(df.g) + (np.max(df.g) - np.min(df.g))/2.0\n",
    "center = np.c_[cg, cb]\n",
    "\n",
    "## Ausgehend vom berechneten Mittelpunkt mit vorgegebener Schrittweite gehen.\n",
    "stepwidth = 0.5\n",
    "for i in range(10):\n",
    "    xnew = center + i * stepwidth * beta\n",
    "    print(xnew)"
   ]
  },
  {
   "cell_type": "markdown",
   "metadata": {},
   "source": [
    "# Modell 2. Ordnung"
   ]
  },
  {
   "cell_type": "code",
   "execution_count": 22,
   "metadata": {},
   "outputs": [
    {
     "data": {
      "image/png": "[encoded data removed]",
      "text/plain": [
       "<Figure size 432x288 with 1 Axes>"
      ]
     },
     "metadata": {},
     "output_type": "display_data"
    }
   ],
   "source": [
    "from sklearn.preprocessing import PolynomialFeatures\n",
    "\n",
    "## Daten einlesen\n",
    "df = pd.read_csv(\"data3.csv\")\n",
    "\n",
    "## Modell-X sind Generator und Bremse in den Daten\n",
    "X = np.c_[df.g, df.b]\n",
    "## Modell-Y ist die Schwingung\n",
    "y = df.y\n",
    "\n",
    "## 2. Grades\n",
    "poly = PolynomialFeatures(degree=2)\n",
    "\n",
    "#transform the x data for proper fitting (for single variable type it returns,[1,x,x**2])\n",
    "xp = poly.fit_transform(X)\n",
    "\n",
    "## Modell fitten\n",
    "model = sm.OLS(y, xp).fit()\n",
    "\n",
    "## Punkte für Plot vorhersagen\n",
    "y_pred = model.predict(xp)\n",
    "\n",
    "## Plotten\n",
    "p = plt.figure().gca(projection='3d')\n",
    "p.scatter(X[:,0], X[:,1], y, color='blue')\n",
    "p.set_xlabel('Generator')\n",
    "p.set_ylabel('Bremse')\n",
    "p.set_zlabel('Schwingung')\n",
    "p.scatter(X[:,0], X[:,1], y_pred, color='orange')\n",
    "plt.show()"
   ]
  },
  {
   "cell_type": "markdown",
   "metadata": {},
   "source": [
    "## Predict New Data"
   ]
  },
  {
   "cell_type": "code",
   "execution_count": 23,
   "metadata": {},
   "outputs": [
    {
     "data": {
      "text/plain": [
       "array([53.85718025])"
      ]
     },
     "execution_count": 23,
     "metadata": {},
     "output_type": "execute_result"
    }
   ],
   "source": [
    "xnew = np.c_[15,0.2]\n",
    "xnew_p = poly.fit_transform(xnew)\n",
    "ynew = model.predict(xnew_p)\n",
    "ynew"
   ]
  },
  {
   "cell_type": "code",
   "execution_count": 24,
   "metadata": {},
   "outputs": [
    {
     "name": "stderr",
     "output_type": "stream",
     "text": [
      "/usr/local/lib/python3.6/dist-packages/scipy/stats/stats.py:1416: UserWarning: kurtosistest only valid for n>=20 ... continuing anyway, n=10\n",
      "  \"anyway, n=%i\" % int(n))\n"
     ]
    },
    {
     "data": {
      "text/html": [
       "<table class=\"simpletable\">\n",
       "<caption>OLS Regression Results</caption>\n",
       "<tr>\n",
       "  <th>Dep. Variable:</th>            <td>y</td>        <th>  R-squared:         </th> <td>   0.949</td>\n",
       "</tr>\n",
       "<tr>\n",
       "  <th>Model:</th>                   <td>OLS</td>       <th>  Adj. R-squared:    </th> <td>   0.908</td>\n",
       "</tr>\n",
       "<tr>\n",
       "  <th>Method:</th>             <td>Least Squares</td>  <th>  F-statistic:       </th> <td>   23.20</td>\n",
       "</tr>\n",
       "<tr>\n",
       "  <th>Date:</th>             <td>Sun, 12 Jan 2020</td> <th>  Prob (F-statistic):</th>  <td>0.00199</td>\n",
       "</tr>\n",
       "<tr>\n",
       "  <th>Time:</th>                 <td>17:54:28</td>     <th>  Log-Likelihood:    </th> <td> -11.150</td>\n",
       "</tr>\n",
       "<tr>\n",
       "  <th>No. Observations:</th>      <td>    10</td>      <th>  AIC:               </th> <td>   32.30</td>\n",
       "</tr>\n",
       "<tr>\n",
       "  <th>Df Residuals:</th>          <td>     5</td>      <th>  BIC:               </th> <td>   33.81</td>\n",
       "</tr>\n",
       "<tr>\n",
       "  <th>Df Model:</th>              <td>     4</td>      <th>                     </th>     <td> </td>   \n",
       "</tr>\n",
       "<tr>\n",
       "  <th>Covariance Type:</th>      <td>nonrobust</td>    <th>                     </th>     <td> </td>   \n",
       "</tr>\n",
       "</table>\n",
       "<table class=\"simpletable\">\n",
       "<tr>\n",
       "    <td></td>       <th>coef</th>     <th>std err</th>      <th>t</th>      <th>P>|t|</th>  <th>[0.025</th>    <th>0.975]</th>  \n",
       "</tr>\n",
       "<tr>\n",
       "  <th>const</th> <td>  -10.2988</td> <td>    3.551</td> <td>   -2.900</td> <td> 0.034</td> <td>  -19.427</td> <td>   -1.170</td>\n",
       "</tr>\n",
       "<tr>\n",
       "  <th>x1</th>    <td>  -17.4080</td> <td>    3.743</td> <td>   -4.651</td> <td> 0.006</td> <td>  -27.030</td> <td>   -7.786</td>\n",
       "</tr>\n",
       "<tr>\n",
       "  <th>x2</th>    <td>  308.6687</td> <td>  246.180</td> <td>    1.254</td> <td> 0.265</td> <td> -324.158</td> <td>  941.496</td>\n",
       "</tr>\n",
       "<tr>\n",
       "  <th>x3</th>    <td>    1.4335</td> <td>    0.298</td> <td>    4.812</td> <td> 0.005</td> <td>    0.668</td> <td>    2.199</td>\n",
       "</tr>\n",
       "<tr>\n",
       "  <th>x4</th>    <td>  -16.8750</td> <td>   18.448</td> <td>   -0.915</td> <td> 0.402</td> <td>  -64.296</td> <td>   30.546</td>\n",
       "</tr>\n",
       "<tr>\n",
       "  <th>x5</th>    <td> -209.4842</td> <td>   82.519</td> <td>   -2.539</td> <td> 0.052</td> <td> -421.605</td> <td>    2.636</td>\n",
       "</tr>\n",
       "</table>\n",
       "<table class=\"simpletable\">\n",
       "<tr>\n",
       "  <th>Omnibus:</th>       <td> 1.774</td> <th>  Durbin-Watson:     </th> <td>   2.888</td>\n",
       "</tr>\n",
       "<tr>\n",
       "  <th>Prob(Omnibus):</th> <td> 0.412</td> <th>  Jarque-Bera (JB):  </th> <td>   0.095</td>\n",
       "</tr>\n",
       "<tr>\n",
       "  <th>Skew:</th>          <td>-0.000</td> <th>  Prob(JB):          </th> <td>   0.954</td>\n",
       "</tr>\n",
       "<tr>\n",
       "  <th>Kurtosis:</th>      <td> 3.477</td> <th>  Cond. No.          </th> <td>8.68e+17</td>\n",
       "</tr>\n",
       "</table><br/><br/>Warnings:<br/>[1] Standard Errors assume that the covariance matrix of the errors is correctly specified.<br/>[2] The smallest eigenvalue is 4.06e-31. This might indicate that there are<br/>strong multicollinearity problems or that the design matrix is singular."
      ],
      "text/plain": [
       "<class 'statsmodels.iolib.summary.Summary'>\n",
       "\"\"\"\n",
       "                            OLS Regression Results                            \n",
       "==============================================================================\n",
       "Dep. Variable:                      y   R-squared:                       0.949\n",
       "Model:                            OLS   Adj. R-squared:                  0.908\n",
       "Method:                 Least Squares   F-statistic:                     23.20\n",
       "Date:                Sun, 12 Jan 2020   Prob (F-statistic):            0.00199\n",
       "Time:                        17:54:28   Log-Likelihood:                -11.150\n",
       "No. Observations:                  10   AIC:                             32.30\n",
       "Df Residuals:                       5   BIC:                             33.81\n",
       "Df Model:                           4                                         \n",
       "Covariance Type:            nonrobust                                         \n",
       "==============================================================================\n",
       "                 coef    std err          t      P>|t|      [0.025      0.975]\n",
       "------------------------------------------------------------------------------\n",
       "const        -10.2988      3.551     -2.900      0.034     -19.427      -1.170\n",
       "x1           -17.4080      3.743     -4.651      0.006     -27.030      -7.786\n",
       "x2           308.6687    246.180      1.254      0.265    -324.158     941.496\n",
       "x3             1.4335      0.298      4.812      0.005       0.668       2.199\n",
       "x4           -16.8750     18.448     -0.915      0.402     -64.296      30.546\n",
       "x5          -209.4842     82.519     -2.539      0.052    -421.605       2.636\n",
       "==============================================================================\n",
       "Omnibus:                        1.774   Durbin-Watson:                   2.888\n",
       "Prob(Omnibus):                  0.412   Jarque-Bera (JB):                0.095\n",
       "Skew:                          -0.000   Prob(JB):                        0.954\n",
       "Kurtosis:                       3.477   Cond. No.                     8.68e+17\n",
       "==============================================================================\n",
       "\n",
       "Warnings:\n",
       "[1] Standard Errors assume that the covariance matrix of the errors is correctly specified.\n",
       "[2] The smallest eigenvalue is 4.06e-31. This might indicate that there are\n",
       "strong multicollinearity problems or that the design matrix is singular.\n",
       "\"\"\""
      ]
     },
     "execution_count": 24,
     "metadata": {},
     "output_type": "execute_result"
    }
   ],
   "source": [
    "model.summary()"
   ]
  },
  {
   "cell_type": "code",
   "execution_count": null,
   "metadata": {},
   "outputs": [],
   "source": []
  }
 ],
 "metadata": {
  "kernelspec": {
   "display_name": "Python 3",
   "language": "python",
   "name": "python3"
  },
  "language_info": {
   "codemirror_mode": {
    "name": "ipython",
    "version": 3
   },
   "file_extension": ".py",
   "mimetype": "text/x-python",
   "name": "python",
   "nbconvert_exporter": "python",
   "pygments_lexer": "ipython3",
   "version": "3.6.8"
  }
 },
 "nbformat": 4,
 "nbformat_minor": 2
}
